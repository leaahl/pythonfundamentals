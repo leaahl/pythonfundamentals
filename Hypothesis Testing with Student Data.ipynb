{
 "cells": [
  {
   "cell_type": "code",
   "execution_count": 2,
   "id": "27833a23-a65b-4225-b29e-f25370bda95f",
   "metadata": {},
   "outputs": [],
   "source": [
    "import pandas as pd"
   ]
  },
  {
   "cell_type": "code",
   "execution_count": 7,
   "id": "3f161cb9-e09c-4e87-9937-2f737a11f129",
   "metadata": {},
   "outputs": [],
   "source": [
    "students = pd.read_csv(\"/Users/mac/Desktop/RISE BCG/Python/students_hyp.csv\")"
   ]
  },
  {
   "cell_type": "code",
   "execution_count": 8,
   "id": "79fd027b-64b6-485b-9072-1bcbe4d0eb49",
   "metadata": {},
   "outputs": [
    {
     "data": {
      "text/html": [
       "<div>\n",
       "<style scoped>\n",
       "    .dataframe tbody tr th:only-of-type {\n",
       "        vertical-align: middle;\n",
       "    }\n",
       "\n",
       "    .dataframe tbody tr th {\n",
       "        vertical-align: top;\n",
       "    }\n",
       "\n",
       "    .dataframe thead th {\n",
       "        text-align: right;\n",
       "    }\n",
       "</style>\n",
       "<table border=\"1\" class=\"dataframe\">\n",
       "  <thead>\n",
       "    <tr style=\"text-align: right;\">\n",
       "      <th></th>\n",
       "      <th>ID</th>\n",
       "      <th>Gender</th>\n",
       "      <th>Race</th>\n",
       "      <th>SEB</th>\n",
       "      <th>School</th>\n",
       "      <th>Prog</th>\n",
       "      <th>Read</th>\n",
       "      <th>Write</th>\n",
       "      <th>Math1</th>\n",
       "      <th>Math2</th>\n",
       "      <th>SST</th>\n",
       "    </tr>\n",
       "  </thead>\n",
       "  <tbody>\n",
       "    <tr>\n",
       "      <th>0</th>\n",
       "      <td>70</td>\n",
       "      <td>0</td>\n",
       "      <td>4</td>\n",
       "      <td>1</td>\n",
       "      <td>1</td>\n",
       "      <td>1</td>\n",
       "      <td>57</td>\n",
       "      <td>52</td>\n",
       "      <td>41</td>\n",
       "      <td>47</td>\n",
       "      <td>57</td>\n",
       "    </tr>\n",
       "    <tr>\n",
       "      <th>1</th>\n",
       "      <td>121</td>\n",
       "      <td>1</td>\n",
       "      <td>4</td>\n",
       "      <td>2</td>\n",
       "      <td>1</td>\n",
       "      <td>3</td>\n",
       "      <td>68</td>\n",
       "      <td>59</td>\n",
       "      <td>53</td>\n",
       "      <td>63</td>\n",
       "      <td>61</td>\n",
       "    </tr>\n",
       "    <tr>\n",
       "      <th>2</th>\n",
       "      <td>86</td>\n",
       "      <td>0</td>\n",
       "      <td>4</td>\n",
       "      <td>3</td>\n",
       "      <td>1</td>\n",
       "      <td>1</td>\n",
       "      <td>44</td>\n",
       "      <td>33</td>\n",
       "      <td>54</td>\n",
       "      <td>58</td>\n",
       "      <td>31</td>\n",
       "    </tr>\n",
       "    <tr>\n",
       "      <th>3</th>\n",
       "      <td>141</td>\n",
       "      <td>0</td>\n",
       "      <td>4</td>\n",
       "      <td>3</td>\n",
       "      <td>1</td>\n",
       "      <td>3</td>\n",
       "      <td>63</td>\n",
       "      <td>44</td>\n",
       "      <td>47</td>\n",
       "      <td>53</td>\n",
       "      <td>56</td>\n",
       "    </tr>\n",
       "    <tr>\n",
       "      <th>4</th>\n",
       "      <td>172</td>\n",
       "      <td>0</td>\n",
       "      <td>4</td>\n",
       "      <td>2</td>\n",
       "      <td>1</td>\n",
       "      <td>2</td>\n",
       "      <td>47</td>\n",
       "      <td>52</td>\n",
       "      <td>57</td>\n",
       "      <td>53</td>\n",
       "      <td>61</td>\n",
       "    </tr>\n",
       "  </tbody>\n",
       "</table>\n",
       "</div>"
      ],
      "text/plain": [
       "    ID  Gender  Race  SEB  School  Prog  Read  Write  Math1  Math2  SST\n",
       "0   70       0     4    1       1     1    57     52     41     47   57\n",
       "1  121       1     4    2       1     3    68     59     53     63   61\n",
       "2   86       0     4    3       1     1    44     33     54     58   31\n",
       "3  141       0     4    3       1     3    63     44     47     53   56\n",
       "4  172       0     4    2       1     2    47     52     57     53   61"
      ]
     },
     "execution_count": 8,
     "metadata": {},
     "output_type": "execute_result"
    }
   ],
   "source": [
    "students.head()"
   ]
  },
  {
   "cell_type": "code",
   "execution_count": 11,
   "id": "db78c40a-d76d-448c-b284-ae9e8d478ad1",
   "metadata": {},
   "outputs": [
    {
     "data": {
      "text/plain": [
       "(200, 11)"
      ]
     },
     "execution_count": 11,
     "metadata": {},
     "output_type": "execute_result"
    }
   ],
   "source": [
    "students.shape"
   ]
  },
  {
   "cell_type": "code",
   "execution_count": 13,
   "id": "bb749c7a-b42b-49cd-b702-c4ed62f49ff2",
   "metadata": {},
   "outputs": [
    {
     "data": {
      "text/plain": [
       "array([1, 2])"
      ]
     },
     "execution_count": 13,
     "metadata": {},
     "output_type": "execute_result"
    }
   ],
   "source": [
    "students[\"School\"].unique()"
   ]
  },
  {
   "cell_type": "code",
   "execution_count": 14,
   "id": "f4df264f-2c5c-40a7-8ac4-5b0ecb986a4b",
   "metadata": {},
   "outputs": [
    {
     "data": {
      "text/plain": [
       "1    168\n",
       "2     32\n",
       "Name: School, dtype: int64"
      ]
     },
     "execution_count": 14,
     "metadata": {},
     "output_type": "execute_result"
    }
   ],
   "source": [
    "students[\"School\"].value_counts()"
   ]
  },
  {
   "cell_type": "code",
   "execution_count": 24,
   "id": "be4e4e51-ee14-4cbf-b7b2-2cfb5315802b",
   "metadata": {},
   "outputs": [
    {
     "data": {
      "text/plain": [
       "School  Prog\n",
       "1       2       81\n",
       "        3       48\n",
       "        1       39\n",
       "2       2       24\n",
       "        1        6\n",
       "        3        2\n",
       "dtype: int64"
      ]
     },
     "execution_count": 24,
     "metadata": {},
     "output_type": "execute_result"
    }
   ],
   "source": [
    "students[[\"School\",\"Prog\"]][[\"School\",\"Prog\"]].value_counts()"
   ]
  },
  {
   "cell_type": "code",
   "execution_count": 28,
   "id": "f9118216-87f3-42eb-bd31-e8af46b7853c",
   "metadata": {},
   "outputs": [
    {
     "data": {
      "text/html": [
       "<div>\n",
       "<style scoped>\n",
       "    .dataframe tbody tr th:only-of-type {\n",
       "        vertical-align: middle;\n",
       "    }\n",
       "\n",
       "    .dataframe tbody tr th {\n",
       "        vertical-align: top;\n",
       "    }\n",
       "\n",
       "    .dataframe thead th {\n",
       "        text-align: right;\n",
       "    }\n",
       "</style>\n",
       "<table border=\"1\" class=\"dataframe\">\n",
       "  <thead>\n",
       "    <tr style=\"text-align: right;\">\n",
       "      <th>Prog</th>\n",
       "      <th>1</th>\n",
       "      <th>2</th>\n",
       "      <th>3</th>\n",
       "      <th>All</th>\n",
       "    </tr>\n",
       "    <tr>\n",
       "      <th>School</th>\n",
       "      <th></th>\n",
       "      <th></th>\n",
       "      <th></th>\n",
       "      <th></th>\n",
       "    </tr>\n",
       "  </thead>\n",
       "  <tbody>\n",
       "    <tr>\n",
       "      <th>1</th>\n",
       "      <td>39</td>\n",
       "      <td>81</td>\n",
       "      <td>48</td>\n",
       "      <td>168</td>\n",
       "    </tr>\n",
       "    <tr>\n",
       "      <th>2</th>\n",
       "      <td>6</td>\n",
       "      <td>24</td>\n",
       "      <td>2</td>\n",
       "      <td>32</td>\n",
       "    </tr>\n",
       "    <tr>\n",
       "      <th>All</th>\n",
       "      <td>45</td>\n",
       "      <td>105</td>\n",
       "      <td>50</td>\n",
       "      <td>200</td>\n",
       "    </tr>\n",
       "  </tbody>\n",
       "</table>\n",
       "</div>"
      ],
      "text/plain": [
       "Prog     1    2   3  All\n",
       "School                  \n",
       "1       39   81  48  168\n",
       "2        6   24   2   32\n",
       "All     45  105  50  200"
      ]
     },
     "execution_count": 28,
     "metadata": {},
     "output_type": "execute_result"
    }
   ],
   "source": [
    "pd.crosstab(students[\"School\"], students[\"Prog\"], margins=True)"
   ]
  },
  {
   "cell_type": "code",
   "execution_count": 32,
   "id": "5d7403d0-6c13-4279-87bc-25c4df3b7439",
   "metadata": {},
   "outputs": [
    {
     "data": {
      "text/html": [
       "<div>\n",
       "<style scoped>\n",
       "    .dataframe tbody tr th:only-of-type {\n",
       "        vertical-align: middle;\n",
       "    }\n",
       "\n",
       "    .dataframe tbody tr th {\n",
       "        vertical-align: top;\n",
       "    }\n",
       "\n",
       "    .dataframe thead tr th {\n",
       "        text-align: left;\n",
       "    }\n",
       "\n",
       "    .dataframe thead tr:last-of-type th {\n",
       "        text-align: right;\n",
       "    }\n",
       "</style>\n",
       "<table border=\"1\" class=\"dataframe\">\n",
       "  <thead>\n",
       "    <tr>\n",
       "      <th>Race</th>\n",
       "      <th colspan=\"3\" halign=\"left\">1</th>\n",
       "      <th colspan=\"3\" halign=\"left\">2</th>\n",
       "      <th colspan=\"3\" halign=\"left\">3</th>\n",
       "      <th colspan=\"3\" halign=\"left\">4</th>\n",
       "      <th>All</th>\n",
       "    </tr>\n",
       "    <tr>\n",
       "      <th>Prog</th>\n",
       "      <th>1</th>\n",
       "      <th>2</th>\n",
       "      <th>3</th>\n",
       "      <th>1</th>\n",
       "      <th>2</th>\n",
       "      <th>3</th>\n",
       "      <th>1</th>\n",
       "      <th>2</th>\n",
       "      <th>3</th>\n",
       "      <th>1</th>\n",
       "      <th>2</th>\n",
       "      <th>3</th>\n",
       "      <th></th>\n",
       "    </tr>\n",
       "    <tr>\n",
       "      <th>School</th>\n",
       "      <th></th>\n",
       "      <th></th>\n",
       "      <th></th>\n",
       "      <th></th>\n",
       "      <th></th>\n",
       "      <th></th>\n",
       "      <th></th>\n",
       "      <th></th>\n",
       "      <th></th>\n",
       "      <th></th>\n",
       "      <th></th>\n",
       "      <th></th>\n",
       "      <th></th>\n",
       "    </tr>\n",
       "  </thead>\n",
       "  <tbody>\n",
       "    <tr>\n",
       "      <th>1</th>\n",
       "      <td>3</td>\n",
       "      <td>10</td>\n",
       "      <td>9</td>\n",
       "      <td>3</td>\n",
       "      <td>6</td>\n",
       "      <td>1</td>\n",
       "      <td>4</td>\n",
       "      <td>8</td>\n",
       "      <td>6</td>\n",
       "      <td>29</td>\n",
       "      <td>57</td>\n",
       "      <td>32</td>\n",
       "      <td>168</td>\n",
       "    </tr>\n",
       "    <tr>\n",
       "      <th>2</th>\n",
       "      <td>1</td>\n",
       "      <td>1</td>\n",
       "      <td>0</td>\n",
       "      <td>1</td>\n",
       "      <td>0</td>\n",
       "      <td>0</td>\n",
       "      <td>1</td>\n",
       "      <td>1</td>\n",
       "      <td>0</td>\n",
       "      <td>3</td>\n",
       "      <td>22</td>\n",
       "      <td>2</td>\n",
       "      <td>32</td>\n",
       "    </tr>\n",
       "    <tr>\n",
       "      <th>All</th>\n",
       "      <td>4</td>\n",
       "      <td>11</td>\n",
       "      <td>9</td>\n",
       "      <td>4</td>\n",
       "      <td>6</td>\n",
       "      <td>1</td>\n",
       "      <td>5</td>\n",
       "      <td>9</td>\n",
       "      <td>6</td>\n",
       "      <td>32</td>\n",
       "      <td>79</td>\n",
       "      <td>34</td>\n",
       "      <td>200</td>\n",
       "    </tr>\n",
       "  </tbody>\n",
       "</table>\n",
       "</div>"
      ],
      "text/plain": [
       "Race    1         2        3         4          All\n",
       "Prog    1   2  3  1  2  3  1  2  3   1   2   3     \n",
       "School                                             \n",
       "1       3  10  9  3  6  1  4  8  6  29  57  32  168\n",
       "2       1   1  0  1  0  0  1  1  0   3  22   2   32\n",
       "All     4  11  9  4  6  1  5  9  6  32  79  34  200"
      ]
     },
     "execution_count": 32,
     "metadata": {},
     "output_type": "execute_result"
    }
   ],
   "source": [
    "pd.crosstab(students[\"School\"], [students[\"Race\"], students[\"Prog\"]], margins=True)"
   ]
  },
  {
   "cell_type": "markdown",
   "id": "fa64fe33-73bc-4fbc-8583-f5f0a3fa7753",
   "metadata": {},
   "source": [
    "### Hypothesis testing\n",
    "\n",
    "#### Hypothesis 1: Most of the students have marks for math > 80 ? Is this true?\n",
    "\n",
    "Ho : mean > 80\n",
    "\n",
    "Ha : mean < = 80 \n",
    "\n",
    "Sample : 1 "
   ]
  },
  {
   "cell_type": "code",
   "execution_count": 34,
   "id": "de875739-8be9-49e8-addc-0e4b3fe1776c",
   "metadata": {},
   "outputs": [],
   "source": [
    "import scipy.stats as st\n"
   ]
  },
  {
   "cell_type": "code",
   "execution_count": 36,
   "id": "51e3fabb-c5b1-48d0-856c-808838045e61",
   "metadata": {},
   "outputs": [
    {
     "data": {
      "text/plain": [
       "Ttest_1sampResult(statistic=-41.293726398489476, pvalue=7.581855049773916e-100)"
      ]
     },
     "execution_count": 36,
     "metadata": {},
     "output_type": "execute_result"
    }
   ],
   "source": [
    "st.ttest_1samp(students[\"Math1\"], 80, alternative = \"less\")"
   ]
  },
  {
   "cell_type": "markdown",
   "id": "56547d41-7d9d-451d-8d0e-75ac37fbfef1",
   "metadata": {},
   "source": [
    "p value is less than alpha (0.05), hence reject null hypothesis"
   ]
  },
  {
   "cell_type": "markdown",
   "id": "a9a81c6b-1203-4f85-8acf-cf93d2270da1",
   "metadata": {},
   "source": [
    "#### Hypothesis 2: Most of the students have marks for read < 60 ? Is this true?\n",
    "\n",
    "Ho : mu < 60\n",
    "\n",
    "Ha : mu > = 60\n"
   ]
  },
  {
   "cell_type": "code",
   "execution_count": 37,
   "id": "aaa5ea46-9410-4752-9da7-fc1abe932f20",
   "metadata": {},
   "outputs": [
    {
     "data": {
      "text/plain": [
       "Ttest_1sampResult(statistic=-10.717357929346454, pvalue=1.0)"
      ]
     },
     "execution_count": 37,
     "metadata": {},
     "output_type": "execute_result"
    }
   ],
   "source": [
    "st.ttest_1samp(students[\"Read\"], 60, alternative = \"greater\")"
   ]
  },
  {
   "cell_type": "markdown",
   "id": "1f45a481-1bad-4d0a-9bbb-8a70bc3031c5",
   "metadata": {},
   "source": [
    "p-value is greater than alpha (0.05), hence we should be accepting the hypothesis that marks for read is <60"
   ]
  },
  {
   "cell_type": "markdown",
   "id": "4ed7510f-76e6-4016-887f-c3923f749d88",
   "metadata": {},
   "source": [
    "#### Hypothesis 4: Average mark is a passing mark of 50 ? Is this true?\n",
    "\n",
    "Ho : mu = 50\n",
    "\n",
    "Ha : mu != 50\n"
   ]
  },
  {
   "cell_type": "code",
   "execution_count": 38,
   "id": "f2c64d9a-efb9-4e07-946d-d547426349ac",
   "metadata": {},
   "outputs": [
    {
     "data": {
      "text/plain": [
       "Ttest_1sampResult(statistic=3.075895518975875, pvalue=0.0023938489031348153)"
      ]
     },
     "execution_count": 38,
     "metadata": {},
     "output_type": "execute_result"
    }
   ],
   "source": [
    "st.ttest_1samp(students[\"Read\"], 50, alternative = \"two-sided\")"
   ]
  },
  {
   "cell_type": "markdown",
   "id": "b322a240-dbbd-44f3-84b2-dd71d4320916",
   "metadata": {},
   "source": [
    "p - value is less than alpha , reject hypothesis. mean does not equal to 50"
   ]
  },
  {
   "cell_type": "markdown",
   "id": "a3f49434-e1e5-4a4d-a560-056419a1e3c9",
   "metadata": {},
   "source": [
    "### 2 Sample t-test"
   ]
  },
  {
   "cell_type": "markdown",
   "id": "1f27a3fd-767e-4324-a27e-c1f26e330d71",
   "metadata": {},
   "source": [
    "#### Hypothesis 4: The average Math scores of boys and girls are not significantly different\n",
    "\n",
    "Ho : average math of boys = average math of girls\n",
    "\n",
    "Ha: average math of boys != average math of girls"
   ]
  },
  {
   "cell_type": "code",
   "execution_count": 39,
   "id": "453dac89-ae9b-447a-bbc1-e3a732dac2a2",
   "metadata": {},
   "outputs": [
    {
     "data": {
      "text/html": [
       "<div>\n",
       "<style scoped>\n",
       "    .dataframe tbody tr th:only-of-type {\n",
       "        vertical-align: middle;\n",
       "    }\n",
       "\n",
       "    .dataframe tbody tr th {\n",
       "        vertical-align: top;\n",
       "    }\n",
       "\n",
       "    .dataframe thead th {\n",
       "        text-align: right;\n",
       "    }\n",
       "</style>\n",
       "<table border=\"1\" class=\"dataframe\">\n",
       "  <thead>\n",
       "    <tr style=\"text-align: right;\">\n",
       "      <th></th>\n",
       "      <th>ID</th>\n",
       "      <th>Gender</th>\n",
       "      <th>Race</th>\n",
       "      <th>SEB</th>\n",
       "      <th>School</th>\n",
       "      <th>Prog</th>\n",
       "      <th>Read</th>\n",
       "      <th>Write</th>\n",
       "      <th>Math1</th>\n",
       "      <th>Math2</th>\n",
       "      <th>SST</th>\n",
       "    </tr>\n",
       "  </thead>\n",
       "  <tbody>\n",
       "    <tr>\n",
       "      <th>0</th>\n",
       "      <td>70</td>\n",
       "      <td>0</td>\n",
       "      <td>4</td>\n",
       "      <td>1</td>\n",
       "      <td>1</td>\n",
       "      <td>1</td>\n",
       "      <td>57</td>\n",
       "      <td>52</td>\n",
       "      <td>41</td>\n",
       "      <td>47</td>\n",
       "      <td>57</td>\n",
       "    </tr>\n",
       "    <tr>\n",
       "      <th>1</th>\n",
       "      <td>121</td>\n",
       "      <td>1</td>\n",
       "      <td>4</td>\n",
       "      <td>2</td>\n",
       "      <td>1</td>\n",
       "      <td>3</td>\n",
       "      <td>68</td>\n",
       "      <td>59</td>\n",
       "      <td>53</td>\n",
       "      <td>63</td>\n",
       "      <td>61</td>\n",
       "    </tr>\n",
       "    <tr>\n",
       "      <th>2</th>\n",
       "      <td>86</td>\n",
       "      <td>0</td>\n",
       "      <td>4</td>\n",
       "      <td>3</td>\n",
       "      <td>1</td>\n",
       "      <td>1</td>\n",
       "      <td>44</td>\n",
       "      <td>33</td>\n",
       "      <td>54</td>\n",
       "      <td>58</td>\n",
       "      <td>31</td>\n",
       "    </tr>\n",
       "    <tr>\n",
       "      <th>3</th>\n",
       "      <td>141</td>\n",
       "      <td>0</td>\n",
       "      <td>4</td>\n",
       "      <td>3</td>\n",
       "      <td>1</td>\n",
       "      <td>3</td>\n",
       "      <td>63</td>\n",
       "      <td>44</td>\n",
       "      <td>47</td>\n",
       "      <td>53</td>\n",
       "      <td>56</td>\n",
       "    </tr>\n",
       "    <tr>\n",
       "      <th>4</th>\n",
       "      <td>172</td>\n",
       "      <td>0</td>\n",
       "      <td>4</td>\n",
       "      <td>2</td>\n",
       "      <td>1</td>\n",
       "      <td>2</td>\n",
       "      <td>47</td>\n",
       "      <td>52</td>\n",
       "      <td>57</td>\n",
       "      <td>53</td>\n",
       "      <td>61</td>\n",
       "    </tr>\n",
       "  </tbody>\n",
       "</table>\n",
       "</div>"
      ],
      "text/plain": [
       "    ID  Gender  Race  SEB  School  Prog  Read  Write  Math1  Math2  SST\n",
       "0   70       0     4    1       1     1    57     52     41     47   57\n",
       "1  121       1     4    2       1     3    68     59     53     63   61\n",
       "2   86       0     4    3       1     1    44     33     54     58   31\n",
       "3  141       0     4    3       1     3    63     44     47     53   56\n",
       "4  172       0     4    2       1     2    47     52     57     53   61"
      ]
     },
     "execution_count": 39,
     "metadata": {},
     "output_type": "execute_result"
    }
   ],
   "source": [
    "students.head()"
   ]
  },
  {
   "cell_type": "code",
   "execution_count": 50,
   "id": "4ae4ee78-5400-4f58-afa0-68f3d65928c6",
   "metadata": {},
   "outputs": [
    {
     "data": {
      "text/html": [
       "<div>\n",
       "<style scoped>\n",
       "    .dataframe tbody tr th:only-of-type {\n",
       "        vertical-align: middle;\n",
       "    }\n",
       "\n",
       "    .dataframe tbody tr th {\n",
       "        vertical-align: top;\n",
       "    }\n",
       "\n",
       "    .dataframe thead th {\n",
       "        text-align: right;\n",
       "    }\n",
       "</style>\n",
       "<table border=\"1\" class=\"dataframe\">\n",
       "  <thead>\n",
       "    <tr style=\"text-align: right;\">\n",
       "      <th></th>\n",
       "      <th>Math1</th>\n",
       "    </tr>\n",
       "    <tr>\n",
       "      <th>Gender</th>\n",
       "      <th></th>\n",
       "    </tr>\n",
       "  </thead>\n",
       "  <tbody>\n",
       "    <tr>\n",
       "      <th>0</th>\n",
       "      <td>52.945055</td>\n",
       "    </tr>\n",
       "    <tr>\n",
       "      <th>1</th>\n",
       "      <td>52.394495</td>\n",
       "    </tr>\n",
       "  </tbody>\n",
       "</table>\n",
       "</div>"
      ],
      "text/plain": [
       "            Math1\n",
       "Gender           \n",
       "0       52.945055\n",
       "1       52.394495"
      ]
     },
     "execution_count": 50,
     "metadata": {},
     "output_type": "execute_result"
    }
   ],
   "source": [
    "students.groupby(\"Gender\")[[\"Math1\"]].mean()"
   ]
  },
  {
   "cell_type": "code",
   "execution_count": 65,
   "id": "1296672e-c915-4b41-82c5-07eb64da905b",
   "metadata": {},
   "outputs": [
    {
     "data": {
      "text/plain": [
       "1      53\n",
       "92     65\n",
       "93     52\n",
       "94     46\n",
       "95     61\n",
       "       ..\n",
       "195    52\n",
       "196    38\n",
       "197    57\n",
       "198    58\n",
       "199    65\n",
       "Name: Math1, Length: 109, dtype: int64"
      ]
     },
     "execution_count": 65,
     "metadata": {},
     "output_type": "execute_result"
    }
   ],
   "source": [
    "boymark = students.loc[ students[\"Gender\"] == 1 , \"Math1\"] #boys marks\n",
    "boymark"
   ]
  },
  {
   "cell_type": "code",
   "execution_count": 64,
   "id": "2e5ec0c1-3505-417a-acdf-624cf556295a",
   "metadata": {},
   "outputs": [
    {
     "data": {
      "text/plain": [
       "0     41\n",
       "2     54\n",
       "3     47\n",
       "4     57\n",
       "5     51\n",
       "      ..\n",
       "87    39\n",
       "88    40\n",
       "89    61\n",
       "90    66\n",
       "91    49\n",
       "Name: Math1, Length: 91, dtype: int64"
      ]
     },
     "execution_count": 64,
     "metadata": {},
     "output_type": "execute_result"
    }
   ],
   "source": [
    "girlmark = students.loc[ students[\"Gender\"] == 0 , \"Math1\"] #girls marks\n",
    "girlmark"
   ]
  },
  {
   "cell_type": "code",
   "execution_count": 66,
   "id": "d1ec3a58-63cf-4990-a677-7de7a9903401",
   "metadata": {
    "tags": []
   },
   "outputs": [
    {
     "data": {
      "text/plain": [
       "Ttest_indResult(statistic=-0.41299864929688507, pvalue=0.6800544974232143)"
      ]
     },
     "execution_count": 66,
     "metadata": {},
     "output_type": "execute_result"
    }
   ],
   "source": [
    "st.ttest_ind(boymark, girlmark, equal_var=True) "
   ]
  },
  {
   "cell_type": "markdown",
   "id": "9d0c77e9-1d7c-422d-938a-268604752c7b",
   "metadata": {},
   "source": [
    "p value is less than alpha, reject Ho, boys average marks not significantly different than girls"
   ]
  },
  {
   "cell_type": "markdown",
   "id": "3fce8c3f-c6e6-4c58-8324-2d07b36bfb96",
   "metadata": {},
   "source": [
    "#### Hypothesis 6: Math 2 marks is after going through a sememster's worth of lesson - working on dependent samples now"
   ]
  },
  {
   "cell_type": "markdown",
   "id": "87b67447-1a80-46f6-ac72-36394a725075",
   "metadata": {},
   "source": [
    "Ho: mu(marks1) != mu(marks2) results after lessons has no improvement on student's grades - status quo\n",
    "\n",
    "\n",
    "Ha: mu(marks1) = mu(marks2) results after lessons has a significant difference"
   ]
  },
  {
   "cell_type": "code",
   "execution_count": 68,
   "id": "473a4a02-df88-411e-b783-980fe5a2c7e7",
   "metadata": {},
   "outputs": [
    {
     "data": {
      "text/plain": [
       "0      41\n",
       "1      53\n",
       "2      54\n",
       "3      47\n",
       "4      57\n",
       "       ..\n",
       "195    52\n",
       "196    38\n",
       "197    57\n",
       "198    58\n",
       "199    65\n",
       "Name: Math1, Length: 200, dtype: int64"
      ]
     },
     "execution_count": 68,
     "metadata": {},
     "output_type": "execute_result"
    }
   ],
   "source": [
    "students.loc[:,\"Math1\"]"
   ]
  },
  {
   "cell_type": "code",
   "execution_count": 69,
   "id": "5d1af6a1-9e2f-409f-bb28-bd64f85d0fc0",
   "metadata": {},
   "outputs": [
    {
     "data": {
      "text/plain": [
       "Ttest_relResult(statistic=1.3555927189268238, pvalue=0.1767652560550735)"
      ]
     },
     "execution_count": 69,
     "metadata": {},
     "output_type": "execute_result"
    }
   ],
   "source": [
    "st.ttest_rel(students.loc[:,\"Math1\"], students.loc[:,\"Math2\"])"
   ]
  },
  {
   "cell_type": "markdown",
   "id": "a165c554-a729-464e-b268-5aea5cadb618",
   "metadata": {},
   "source": [
    "p value is greater than alpha, accept Ho , means that there has been no improvements, status quo"
   ]
  },
  {
   "cell_type": "code",
   "execution_count": 71,
   "id": "fd5903c2-8796-4e41-8410-52b12c7c9bcd",
   "metadata": {},
   "outputs": [
    {
     "data": {
      "text/plain": [
       "52.645"
      ]
     },
     "execution_count": 71,
     "metadata": {},
     "output_type": "execute_result"
    }
   ],
   "source": [
    "students.Math1.mean()"
   ]
  },
  {
   "cell_type": "markdown",
   "id": "89521234-8796-408b-b59a-19675d4926fe",
   "metadata": {
    "tags": []
   },
   "source": [
    "### ANOVA (3-sample in this case) F test\n",
    "#### Hypothesis 7. programme 1, 2, 3, is there any significant difference in the results for students who went through different prog?"
   ]
  },
  {
   "cell_type": "code",
   "execution_count": 74,
   "id": "f353420c-ac19-42ec-bfa1-7849aab742b1",
   "metadata": {},
   "outputs": [
    {
     "data": {
      "text/plain": [
       "F_onewayResult(statistic=29.279283801321775, pvalue=7.36401083352674e-12)"
      ]
     },
     "execution_count": 74,
     "metadata": {},
     "output_type": "execute_result"
    }
   ],
   "source": [
    "st.f_oneway(students.loc[ students[\"Prog\"] == 1 , \"Math1\"], \n",
    "            students.loc[ students[\"Prog\"] == 2 , \"Math1\"], \n",
    "            students.loc[ students[\"Prog\"] == 3 , \"Math1\"]\n",
    "            )"
   ]
  },
  {
   "cell_type": "markdown",
   "id": "50b9aa5c-996e-4542-854e-b3a24c2070e6",
   "metadata": {},
   "source": [
    "p value is less than 0.05, reject null hypothesis , there is a change"
   ]
  },
  {
   "cell_type": "markdown",
   "id": "b0ad9825-0e11-440d-bc93-12a6d17b7d1b",
   "metadata": {},
   "source": [
    "### Chi-square test of independence"
   ]
  },
  {
   "cell_type": "markdown",
   "id": "f79ee100-539d-4f6d-a434-0f1d4bfc15f1",
   "metadata": {},
   "source": [
    "Ho: selection of prog and school are independent"
   ]
  },
  {
   "cell_type": "code",
   "execution_count": 76,
   "id": "ef5de808-077e-4028-bdc1-46628cd06eef",
   "metadata": {},
   "outputs": [
    {
     "data": {
      "text/html": [
       "<div>\n",
       "<style scoped>\n",
       "    .dataframe tbody tr th:only-of-type {\n",
       "        vertical-align: middle;\n",
       "    }\n",
       "\n",
       "    .dataframe tbody tr th {\n",
       "        vertical-align: top;\n",
       "    }\n",
       "\n",
       "    .dataframe thead th {\n",
       "        text-align: right;\n",
       "    }\n",
       "</style>\n",
       "<table border=\"1\" class=\"dataframe\">\n",
       "  <thead>\n",
       "    <tr style=\"text-align: right;\">\n",
       "      <th>School</th>\n",
       "      <th>1</th>\n",
       "      <th>2</th>\n",
       "    </tr>\n",
       "    <tr>\n",
       "      <th>Prog</th>\n",
       "      <th></th>\n",
       "      <th></th>\n",
       "    </tr>\n",
       "  </thead>\n",
       "  <tbody>\n",
       "    <tr>\n",
       "      <th>1</th>\n",
       "      <td>39</td>\n",
       "      <td>6</td>\n",
       "    </tr>\n",
       "    <tr>\n",
       "      <th>2</th>\n",
       "      <td>81</td>\n",
       "      <td>24</td>\n",
       "    </tr>\n",
       "    <tr>\n",
       "      <th>3</th>\n",
       "      <td>48</td>\n",
       "      <td>2</td>\n",
       "    </tr>\n",
       "  </tbody>\n",
       "</table>\n",
       "</div>"
      ],
      "text/plain": [
       "School   1   2\n",
       "Prog          \n",
       "1       39   6\n",
       "2       81  24\n",
       "3       48   2"
      ]
     },
     "execution_count": 76,
     "metadata": {},
     "output_type": "execute_result"
    }
   ],
   "source": [
    "CT = pd.crosstab(students[\"Prog\"], students[\"School\"])\n",
    "CT"
   ]
  },
  {
   "cell_type": "code",
   "execution_count": 79,
   "id": "a90b3a72-18fa-4f12-bb98-26b0bf0e14c3",
   "metadata": {},
   "outputs": [],
   "source": [
    "chi, p, dof, efreq = st.chi2_contingency(CT)"
   ]
  },
  {
   "cell_type": "code",
   "execution_count": 80,
   "id": "8ad5bdba-25bd-4cb8-9b32-44b5989acfbd",
   "metadata": {},
   "outputs": [
    {
     "data": {
      "text/plain": [
       "array([[37.8,  7.2],\n",
       "       [88.2, 16.8],\n",
       "       [42. ,  8. ]])"
      ]
     },
     "execution_count": 80,
     "metadata": {},
     "output_type": "execute_result"
    }
   ],
   "source": [
    "efreq"
   ]
  },
  {
   "cell_type": "code",
   "execution_count": 81,
   "id": "5554ed03-844f-4eec-874c-fa4eccf0f3a6",
   "metadata": {},
   "outputs": [
    {
     "data": {
      "text/plain": [
       "9.268707482993197"
      ]
     },
     "execution_count": 81,
     "metadata": {},
     "output_type": "execute_result"
    }
   ],
   "source": [
    "chi"
   ]
  },
  {
   "cell_type": "code",
   "execution_count": 82,
   "id": "cf15990e-b135-45b1-9d7f-ea9304c8e78b",
   "metadata": {},
   "outputs": [
    {
     "data": {
      "text/plain": [
       "0.009712381719872817"
      ]
     },
     "execution_count": 82,
     "metadata": {},
     "output_type": "execute_result"
    }
   ],
   "source": [
    "p"
   ]
  },
  {
   "cell_type": "markdown",
   "id": "7315cab2-f8fd-44f4-84f3-5dad732c95f5",
   "metadata": {},
   "source": [
    "p value is < 0.05 hence, reject Ho, means that school and program have an influence/associated with each other"
   ]
  },
  {
   "cell_type": "markdown",
   "id": "a599ae8e-0391-4457-b1d8-75fbfb307fa3",
   "metadata": {},
   "source": [
    "### Chi-square test: Goodness of fit\n"
   ]
  },
  {
   "cell_type": "code",
   "execution_count": null,
   "id": "f573863d-cea6-4ff1-80fb-bb6674995a6c",
   "metadata": {},
   "outputs": [],
   "source": []
  }
 ],
 "metadata": {
  "kernelspec": {
   "display_name": "Python 3 (ipykernel)",
   "language": "python",
   "name": "python3"
  },
  "language_info": {
   "codemirror_mode": {
    "name": "ipython",
    "version": 3
   },
   "file_extension": ".py",
   "mimetype": "text/x-python",
   "name": "python",
   "nbconvert_exporter": "python",
   "pygments_lexer": "ipython3",
   "version": "3.9.13"
  }
 },
 "nbformat": 4,
 "nbformat_minor": 5
}
